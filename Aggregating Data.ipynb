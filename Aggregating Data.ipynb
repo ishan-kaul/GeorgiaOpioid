{
 "cells": [
  {
   "cell_type": "code",
   "execution_count": 2,
   "metadata": {
    "collapsed": false
   },
   "outputs": [],
   "source": [
    "from IPython.display import HTML\n",
    "import numpy as np\n",
    "import pandas as pd\n",
    "import matplotlib\n",
    "import matplotlib.pyplot as plt\n",
    "from sklearn.tree import DecisionTreeRegressor\n",
    "from sklearn.model_selection import train_test_split\n",
    "from sklearn import tree\n",
    "from sklearn.metrics import precision_score\n",
    "\n",
    "import urllib2\n",
    "import bs4\n",
    "import time\n",
    "import operator\n",
    "import re \n",
    "    \n",
    "%matplotlib inline\n",
    "import seaborn as sns"
   ]
  },
  {
   "cell_type": "code",
   "execution_count": 3,
   "metadata": {
    "collapsed": false
   },
   "outputs": [],
   "source": [
    "#Time Series Data\n",
    "UR = pd.read_csv('UnempRate.csv', sep=',', na_values=[\" \", \"\"])\n",
    "crime = pd.read_csv('violent_crime_count_age17andup.csv', sep=',', na_values=[\" \", \"\"])\n",
    "#crime.iloc[:,1:]/population.iloc[:,1:] \n",
    "#but missing 2016 data, so 2016 data not used\n",
    "#prescription is per 100\n",
    "prescription = pd.read_csv('prescription_rate.csv', sep=',', na_values=[\" \", \"\"])\n",
    "population = pd.read_csv('population.csv', sep=',', na_values=[\" \", \"\"])\n",
    "birth_rate = pd.read_csv('birth_rate.csv', sep=',', na_values=[\" \", \"\"])\n",
    "death_rate = pd.read_csv('death_rate.csv', sep=',', na_values=[\" \", \"\"])"
   ]
  },
  {
   "cell_type": "code",
   "execution_count": 6,
   "metadata": {
    "collapsed": true
   },
   "outputs": [],
   "source": [
    "#Normalizing Time-Series Data\n",
    "UR.iloc[:,1:]=UR.iloc[:,1:]/100\n",
    "birth_rate.iloc[:,1:]=birth_rate.iloc[:,1:]/1000\n",
    "death_rate.iloc[:,1:]=death_rate.iloc[:,1:]/1000\n",
    "prescription.iloc[:,1:]=prescription.iloc[:,1:]/100"
   ]
  },
  {
   "cell_type": "code",
   "execution_count": 7,
   "metadata": {
    "collapsed": true
   },
   "outputs": [],
   "source": [
    "#Non-Time Series Data\n",
    "data = pd.read_csv('cleaned_GaCountiesODDeath.csv', na_values=[\" \", \"\"] ,sep=',', index_col=0).sort('County').reset_index(drop=True)\n",
    "hospital = pd.read_csv('cleaned_GaHospitals.csv', na_values=[\" \", \"\"] ,sep=',', index_col=0).fillna(0)\n",
    "dropbox = pd.read_csv('drug_dropbox.csv', na_values=[\" \", \"\"] ,sep=',').fillna(0)\n",
    "ems = pd.read_csv('cleaned_ems.csv', na_values=[\" \", \"\"] ,sep=',', index_col=0).fillna(0)\n",
    "rehab = pd.read_csv('cleaned_rehab.csv', na_values=[\" \", \"\"] ,sep=',', index_col=0).fillna(0)\n",
    "\n",
    "hospital=hospital.rename(columns = {'Count':'hospital_count'})\n",
    "dropbox=dropbox.rename(columns = {'COUNT':'dropbox_count'})\n",
    "dropbox=dropbox.rename(columns = {'24Availability':'dropbox_247availability'})"
   ]
  },
  {
   "cell_type": "code",
   "execution_count": 8,
   "metadata": {
    "collapsed": false
   },
   "outputs": [],
   "source": [
    "normalized_data = data.iloc[:,1:]/population.iloc[:,1:]"
   ]
  },
  {
   "cell_type": "code",
   "execution_count": 9,
   "metadata": {
    "collapsed": false
   },
   "outputs": [],
   "source": [
    "df = data[['County','Rural']].copy()\n",
    "df1 = pd.concat([df, rehab['Rehab_Count'],  ems['EMS_COUNT'],\n",
    "                 hospital['hospital_count'], dropbox['dropbox_247availability'], dropbox['dropbox_count']], axis=1)"
   ]
  },
  {
   "cell_type": "code",
   "execution_count": 10,
   "metadata": {
    "collapsed": false
   },
   "outputs": [],
   "source": [
    "#data[['Counties','Rural', '2016', '1yrlag', '2yrlag', '10yrlag']]\n",
    "df1['1yrlag']=(data['2016']-data['2015'])/data['2015']\n",
    "df1['5yrlag']=(data['2016']-data['2011'])/data['2011']\n",
    "df1['10yrlag']=(data['2016']-data['2006'])/data['2006']\n",
    "\n",
    "df1['UR_1yrlag']=(UR['2016']-UR['2015'])/UR['2015']\n",
    "df1['UR_5yrlag']=(UR['2016']-UR['2011'])/UR['2011']\n",
    "df1['UR_10yrlag']=(UR['2016']-UR['2006'])/UR['2006']\n",
    "\n",
    "df1['CR_1yrlag']=(crime['2015']-crime['2014'])/crime['2014']\n",
    "df1['CR_5yrlag']=(crime['2015']-crime['2010'])/crime['2010']\n",
    "df1['CR_10yrlag']=(crime['2015']-crime['2005'])/crime['2005']\n",
    "\n",
    "df1['PR_1yrlag']=(prescription['2016']-prescription['2015'])/prescription['2015']\n",
    "df1['PR_5yrlag']=(prescription['2016']-prescription['2011'])/prescription['2011']\n",
    "df1['PR_10yrlag']=(prescription['2016']-prescription['2006'])/prescription['2006']\n",
    "\n",
    "df1['BR_1yrlag']=(birth_rate['2016']-birth_rate['2015'])/birth_rate['2015']\n",
    "df1['BR_5yrlag']=(birth_rate['2016']-birth_rate['2011'])/birth_rate['2011']\n",
    "df1['BR_10yrlag']=(birth_rate['2016']-birth_rate['2006'])/birth_rate['2006']\n",
    "\n",
    "df1['DR_1yrlag']=(death_rate['2016']-death_rate['2015'])/death_rate['2015']\n",
    "df1['DR_5yrlag']=(death_rate['2016']-death_rate['2011'])/death_rate['2011']\n",
    "df1['DR_10yrlag']=(death_rate['2016']-death_rate['2006'])/death_rate['2006']\n",
    "\n",
    "df1=df1.replace([np.inf, -np.inf], np.nan)\n",
    "df1 = df1.fillna(0)\n",
    "\n",
    "death_rate_2016=death_rate.rename(columns = {'2016':'2016_death_rate'})\n",
    "birth_rate_2016=birth_rate.rename(columns = {'2016':'2016_birth_rate'})\n",
    "prescription_2016=prescription.rename(columns = {'2016':'2016_prescription'})\n",
    "\n",
    "df2 = pd.concat([df1, death_rate_2016['2016_death_rate'], birth_rate_2016['2016_birth_rate'], prescription_2016['2016_prescription'], normalized_data['2016']], axis=1)\n",
    "df2=df2.rename(columns = {'2016':'2016_ODRate'})"
   ]
  },
  {
   "cell_type": "code",
   "execution_count": 11,
   "metadata": {
    "collapsed": false
   },
   "outputs": [],
   "source": [
    "df2.columns\n",
    "nat_OD_rate=0.00016219127"
   ]
  },
  {
   "cell_type": "code",
   "execution_count": 12,
   "metadata": {
    "collapsed": false
   },
   "outputs": [],
   "source": [
    "#2015 National OD Rate\n",
    "#52,404/323100000\n",
    "df2['2016ODabovenatavg'] = df2['2016_ODRate'] > nat_OD_rate"
   ]
  },
  {
   "cell_type": "code",
   "execution_count": 13,
   "metadata": {
    "collapsed": false
   },
   "outputs": [],
   "source": [
    "df2.to_csv('AggredgatedData.csv')"
   ]
  },
  {
   "cell_type": "code",
   "execution_count": 169,
   "metadata": {
    "collapsed": false
   },
   "outputs": [],
   "source": [
    "features = list(df2.columns[1:-1])\n",
    "X = df2[features]\n",
    "Y = df2['2016_ODRate']"
   ]
  },
  {
   "cell_type": "code",
   "execution_count": 170,
   "metadata": {
    "collapsed": false
   },
   "outputs": [],
   "source": [
    "X_train, X_test, Y_train, Y_test = train_test_split(X, Y, test_size=0.33, random_state=42)"
   ]
  },
  {
   "cell_type": "code",
   "execution_count": 171,
   "metadata": {
    "collapsed": false
   },
   "outputs": [],
   "source": [
    "clf = tree.DecisionTreeClassifier()\n",
    "clf = clf.fit(X_train, Y_train)"
   ]
  },
  {
   "cell_type": "code",
   "execution_count": 172,
   "metadata": {
    "collapsed": false
   },
   "outputs": [],
   "source": [
    "Y_pred = clf.predict(X_test)"
   ]
  },
  {
   "cell_type": "code",
   "execution_count": 177,
   "metadata": {
    "collapsed": false
   },
   "outputs": [
    {
     "data": {
      "text/plain": [
       "78     0.000000\n",
       "155    0.001256\n",
       "128    0.000197\n",
       "55     0.000018\n",
       "94     0.000072\n",
       "29     0.000000\n",
       "147    0.000839\n",
       "51     0.000157\n",
       "98     0.000000\n",
       "141    0.000747\n",
       "19     0.000019\n",
       "60     0.000135\n",
       "15     0.000013\n",
       "65     0.000235\n",
       "24     0.000017\n",
       "30     0.000007\n",
       "126    0.000350\n",
       "101    0.000037\n",
       "96     0.000173\n",
       "16     0.000000\n",
       "151    0.004232\n",
       "18     0.000158\n",
       "12     0.000218\n",
       "9      0.000053\n",
       "31     0.000146\n",
       "125    0.001173\n",
       "95     0.000149\n",
       "56     0.000083\n",
       "145    0.000250\n",
       "152    0.000376\n",
       "135    0.001879\n",
       "76     0.000000\n",
       "75     0.000007\n",
       "138    0.003248\n",
       "2      0.000000\n",
       "86     0.000000\n",
       "45     0.000073\n",
       "42     0.000075\n",
       "68     0.000000\n",
       "118    0.001027\n",
       "26     0.000161\n",
       "137    0.001103\n",
       "146    0.000155\n",
       "90     0.000000\n",
       "66     0.000000\n",
       "36     0.000000\n",
       "82     0.000526\n",
       "22     0.000015\n",
       "85     0.000000\n",
       "81     0.000000\n",
       "112    0.000261\n",
       "11     0.000308\n",
       "109    0.000083\n",
       "Name: 2016_ODRate, dtype: float64"
      ]
     },
     "execution_count": 177,
     "metadata": {},
     "output_type": "execute_result"
    }
   ],
   "source": [
    "Y_test"
   ]
  },
  {
   "cell_type": "code",
   "execution_count": null,
   "metadata": {
    "collapsed": true
   },
   "outputs": [],
   "source": []
  }
 ],
 "metadata": {
  "kernelspec": {
   "display_name": "Python 2",
   "language": "python",
   "name": "python2"
  },
  "language_info": {
   "codemirror_mode": {
    "name": "ipython",
    "version": 2
   },
   "file_extension": ".py",
   "mimetype": "text/x-python",
   "name": "python",
   "nbconvert_exporter": "python",
   "pygments_lexer": "ipython2",
   "version": "2.7.10"
  }
 },
 "nbformat": 4,
 "nbformat_minor": 0
}
