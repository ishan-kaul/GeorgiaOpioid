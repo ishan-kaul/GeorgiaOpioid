{
 "cells": [
  {
   "cell_type": "code",
   "execution_count": 1,
   "metadata": {
    "collapsed": false
   },
   "outputs": [],
   "source": [
    "from IPython.display import HTML\n",
    "import numpy as np\n",
    "import pandas as pd\n",
    "import matplotlib\n",
    "import matplotlib.pyplot as plt\n",
    "from sklearn.tree import DecisionTreeRegressor\n",
    "from sklearn.model_selection import train_test_split\n",
    "from sklearn import tree\n",
    "from sklearn.metrics import precision_score\n",
    "\n",
    "import time\n",
    "    \n",
    "%matplotlib inline\n",
    "import seaborn as sns"
   ]
  },
  {
   "cell_type": "code",
   "execution_count": 13,
   "metadata": {
    "collapsed": false
   },
   "outputs": [],
   "source": [
    "#Time Series Data\n",
    "UR = pd.read_csv('UnempRate.csv', sep=',', na_values=[\" \", \"\"])\n",
    "crime = pd.read_csv('violent_crime_count_age17andup.csv', sep=',', na_values=[\" \", \"\"])\n",
    "#crime.iloc[:,1:]/population.iloc[:,1:] \n",
    "#but missing 2016 data, so 2016 data not used\n",
    "#prescription is per 100\n",
    "prescription = pd.read_csv('prescription_rate.csv', sep=',', na_values=[\" \", \"\"])\n",
    "population = pd.read_csv('population.csv', sep=',', na_values=[\" \", \"\"])\n",
    "birth_rate = pd.read_csv('birth_rate.csv', sep=',', na_values=[\" \", \"\"])\n",
    "death_rate = pd.read_csv('death_rate.csv', sep=',', na_values=[\" \", \"\"])\n",
    "children_poverty = pd.read_csv('children_living_in_poverty.csv', sep=',', na_values=[\" \", \"\"])\n",
    "teenage_pregnancy = pd.read_csv('Birth_Rate_10-19_Years_of_Age.csv', sep=',', na_values=[\" \", \"\"])"
   ]
  },
  {
   "cell_type": "code",
   "execution_count": 4,
   "metadata": {
    "collapsed": true
   },
   "outputs": [],
   "source": [
    "#Normalizing Time-Series Data\n",
    "UR.iloc[:,1:]=UR.iloc[:,1:]/100\n",
    "birth_rate.iloc[:,1:]=birth_rate.iloc[:,1:]/1000\n",
    "death_rate.iloc[:,1:]=death_rate.iloc[:,1:]/1000\n",
    "prescription.iloc[:,1:]=prescription.iloc[:,1:]/100"
   ]
  },
  {
   "cell_type": "code",
   "execution_count": 5,
   "metadata": {
    "collapsed": true
   },
   "outputs": [],
   "source": [
    "#Non-Time Series Data\n",
    "data = pd.read_csv('cleaned_GaCountiesODDeath.csv', na_values=[\" \", \"\"] ,sep=',', index_col=0).sort('County').reset_index(drop=True)\n",
    "hospital = pd.read_csv('cleaned_GaHospitals.csv', na_values=[\" \", \"\"] ,sep=',', index_col=0).fillna(0)\n",
    "dropbox = pd.read_csv('drug_dropbox.csv', na_values=[\" \", \"\"] ,sep=',').fillna(0)\n",
    "ems = pd.read_csv('cleaned_ems.csv', na_values=[\" \", \"\"] ,sep=',', index_col=0).fillna(0)\n",
    "rehab = pd.read_csv('cleaned_rehab.csv', na_values=[\" \", \"\"] ,sep=',', index_col=0).fillna(0)\n",
    "\n",
    "hospital=hospital.rename(columns = {'Count':'hospital_count'})\n",
    "dropbox=dropbox.rename(columns = {'COUNT':'dropbox_count'})\n",
    "dropbox=dropbox.rename(columns = {'24Availability':'dropbox_247availability'})"
   ]
  },
  {
   "cell_type": "code",
   "execution_count": 6,
   "metadata": {
    "collapsed": false
   },
   "outputs": [],
   "source": [
    "normalized_data = data.iloc[:,1:]/population.iloc[:,1:]"
   ]
  },
  {
   "cell_type": "code",
   "execution_count": 7,
   "metadata": {
    "collapsed": false
   },
   "outputs": [],
   "source": [
    "df = data[['County','Rural']].copy()\n",
    "df1 = pd.concat([df, rehab['Rehab_Count'],  ems['EMS_COUNT'],\n",
    "                 hospital['hospital_count'], dropbox['dropbox_247availability'], dropbox['dropbox_count']], axis=1)"
   ]
  },
  {
   "cell_type": "code",
   "execution_count": 15,
   "metadata": {
    "collapsed": false
   },
   "outputs": [],
   "source": [
    "#data[['Counties','Rural', '2016', '1yrlag', '2yrlag', '10yrlag']]\n",
    "df1['1yrlag']=(data['2016']-data['2015'])/data['2015']\n",
    "df1['5yrlag']=(data['2016']-data['2011'])/data['2011']\n",
    "df1['10yrlag']=(data['2016']-data['2006'])/data['2006']\n",
    "\n",
    "df1['UR_1yrlag']=(UR['2016']-UR['2015'])/UR['2015']\n",
    "df1['UR_5yrlag']=(UR['2016']-UR['2011'])/UR['2011']\n",
    "df1['UR_10yrlag']=(UR['2016']-UR['2006'])/UR['2006']\n",
    "\n",
    "df1['CR_1yrlag']=(crime['2015']-crime['2014'])/crime['2014']\n",
    "df1['CR_5yrlag']=(crime['2015']-crime['2010'])/crime['2010']\n",
    "df1['CR_10yrlag']=(crime['2015']-crime['2005'])/crime['2005']\n",
    "\n",
    "df1['PR_1yrlag']=(prescription['2016']-prescription['2015'])/prescription['2015']\n",
    "df1['PR_5yrlag']=(prescription['2016']-prescription['2011'])/prescription['2011']\n",
    "df1['PR_10yrlag']=(prescription['2016']-prescription['2006'])/prescription['2006']\n",
    "\n",
    "df1['BR_1yrlag']=(birth_rate['2016']-birth_rate['2015'])/birth_rate['2015']\n",
    "df1['BR_5yrlag']=(birth_rate['2016']-birth_rate['2011'])/birth_rate['2011']\n",
    "df1['BR_10yrlag']=(birth_rate['2016']-birth_rate['2006'])/birth_rate['2006']\n",
    "\n",
    "df1['DR_1yrlag']=(death_rate['2016']-death_rate['2015'])/death_rate['2015']\n",
    "df1['DR_5yrlag']=(death_rate['2016']-death_rate['2011'])/death_rate['2011']\n",
    "df1['DR_10yrlag']=(death_rate['2016']-death_rate['2006'])/death_rate['2006']\n",
    "\n",
    "df1=df1.replace([np.inf, -np.inf], np.nan)\n",
    "df1 = df1.fillna(0)\n",
    "\n",
    "\n",
    "teenage_pregnancy_2016=teenage_pregnancy.rename(columns = {'2016':'teenage_pregnancy_2016'})\n",
    "children_poverty_2015=children_poverty.rename(columns = {'2015':'2015_children_poverty'})\n",
    "death_rate_2016=death_rate.rename(columns = {'2016':'2016_death_rate'})\n",
    "birth_rate_2016=birth_rate.rename(columns = {'2016':'2016_birth_rate'})\n",
    "prescription_2016=prescription.rename(columns = {'2016':'2016_prescription'})\n",
    "\n",
    "df2 = pd.concat([df1, teenage_pregnancy_2016['teenage_pregnancy_2016'], children_poverty_2015['2015_children_poverty'], death_rate_2016['2016_death_rate'], birth_rate_2016['2016_birth_rate'], prescription_2016['2016_prescription'], normalized_data['2016']], axis=1)\n",
    "df2=df2.rename(columns = {'2016':'2016_ODRate'})"
   ]
  },
  {
   "cell_type": "code",
   "execution_count": 10,
   "metadata": {
    "collapsed": false
   },
   "outputs": [],
   "source": [
    "df2.columns\n",
    "nat_OD_rate=0.00016219127"
   ]
  },
  {
   "cell_type": "code",
   "execution_count": 11,
   "metadata": {
    "collapsed": false
   },
   "outputs": [],
   "source": [
    "#2015 National OD Rate\n",
    "#52,404/323100000\n",
    "df2['2016ODabovenatavg'] = df2['2016_ODRate'] > nat_OD_rate"
   ]
  },
  {
   "cell_type": "code",
   "execution_count": 16,
   "metadata": {
    "collapsed": false
   },
   "outputs": [],
   "source": [
    "df2.to_csv('AggredgatedData.csv')"
   ]
  },
  {
   "cell_type": "code",
   "execution_count": null,
   "metadata": {
    "collapsed": true
   },
   "outputs": [],
   "source": []
  }
 ],
 "metadata": {
  "kernelspec": {
   "display_name": "Python 2",
   "language": "python",
   "name": "python2"
  },
  "language_info": {
   "codemirror_mode": {
    "name": "ipython",
    "version": 2
   },
   "file_extension": ".py",
   "mimetype": "text/x-python",
   "name": "python",
   "nbconvert_exporter": "python",
   "pygments_lexer": "ipython2",
   "version": "2.7.10"
  }
 },
 "nbformat": 4,
 "nbformat_minor": 0
}
